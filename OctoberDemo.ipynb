{
 "cells": [
  {
   "cell_type": "markdown",
   "metadata": {},
   "source": [
    "# October Demo\n",
    "## Yu Wang\n",
    "## I used to put some code examples here, then I think it should be more direct if I describe the structures here. Hope this is a right change."
   ]
  },
  {
   "cell_type": "markdown",
   "metadata": {},
   "source": [
    "## Object--->(October, tMatrix)\n",
    "### Object is a container to store October and a transition matrix(tMatrix). I use it to wrap October and store how the object is moved."
   ]
  },
  {
   "cell_type": "markdown",
   "metadata": {},
   "source": [
    "## October--->(obb, originalcenter, points, ...)\n",
    "### October is a node of the obb-octree (the main part for this project). In a October node, an obb is calculated with the points, and then the points are splitted by their reference positions to the center. There is an encoder called getidx that maps the coordinates to a corresponding index of a subregion."
   ]
  },
  {
   "cell_type": "markdown",
   "metadata": {},
   "source": [
    "## obb(from pyobb)--->(rotation, points, centroid...)\n",
    "### Rotation is a matrix that changes the original coordinates to the new one, aligned to the axis of the bounding box. Since it doesn't move the origin, I need to manually \"move\" the origin myself."
   ]
  },
  {
   "cell_type": "markdown",
   "metadata": {},
   "source": [
    "## Flow of how to bring \"points\" from two \"worlds\" into one\n",
    "### Each October tree is static after built, after each movement, the tMatrix should be updated, then there are several things to do between two October trees.\n",
    "\n",
    "### 1. \"Move yourself\" (Object 1)\n",
    "### Use the objects' own tMatrix to transite the points to their new position.\n",
    "\n",
    "### 2. \"Change the world\" (Object 2)\n",
    "### Change the \"local coordinates\" corresponding to tMatrix.\n",
    "\n",
    "### 3. \"Project yourself into the new world\" (Object 1&2)\n",
    "### Project the updated coordinates into the local frame of another October node. After this is done, the point's relative position can be described with the new local frame."
   ]
  },
  {
   "cell_type": "markdown",
   "metadata": {},
   "source": [
    "## Flow of how it works"
   ]
  },
  {
   "cell_type": "markdown",
   "metadata": {},
   "source": [
    "#### Suppose we have two objects, a and b, then:\n",
    "#### 1. Build Object a, Object b by calculating October a and October b, initialize tMatrix a and tMatrix b as None.\n",
    "#### 2. While a and b are moving, keep updating tMatrix a and tMatrix b. No change is needed for Octobers.\n",
    "#### 3. If collision-detection is needed, detect collision with Octobers and updated tMatrices.\n",
    "#### 4. Keep going till the outer program is terminated."
   ]
  }
 ],
 "metadata": {
  "kernelspec": {
   "display_name": "Python 3",
   "language": "python",
   "name": "python3"
  },
  "language_info": {
   "codemirror_mode": {
    "name": "ipython",
    "version": 3
   },
   "file_extension": ".py",
   "mimetype": "text/x-python",
   "name": "python",
   "nbconvert_exporter": "python",
   "pygments_lexer": "ipython3",
   "version": "3.7.3"
  }
 },
 "nbformat": 4,
 "nbformat_minor": 2
}
